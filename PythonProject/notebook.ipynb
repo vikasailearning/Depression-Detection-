{
 "cells": [
  {
   "metadata": {},
   "cell_type": "markdown",
   "source": [
    "## 1. Setup & Preprocessing\n",
    "a. Load GLOBEM Dataset <br>\n",
    "Assumption: Provided in CSV format.\n",
    "\n",
    "\n",
    "Problem Statement in more clear format adding more details.\n",
    "Follow the exact format give by Greate learning in same order.\n",
    "\n",
    "Data collection website referernce.\n",
    "Details of data in 1-2 slides\n",
    "Define IQR\n",
    "in the format of Research Question"
   ],
   "id": "efa9980d4f1fa84f"
  },
  {
   "metadata": {
    "ExecuteTime": {
     "end_time": "2025-08-17T08:35:29.225515Z",
     "start_time": "2025-08-17T08:35:29.223543Z"
    }
   },
   "cell_type": "code",
   "source": [
    "import pandas as pd\n",
    "import numpy as np"
   ],
   "id": "initial_id",
   "outputs": [],
   "execution_count": 79
  },
  {
   "metadata": {
    "ExecuteTime": {
     "end_time": "2025-08-17T08:35:29.231416Z",
     "start_time": "2025-08-17T08:35:29.229706Z"
    }
   },
   "cell_type": "code",
   "source": [
    "#Data Path\n",
    "DATA_DIR = '/Volumes/SanDisk/MyData/WALSHAIMl/WalshAIML/Capstone/GlobemDataSet/GLOBEM-main/data_raw/'\n",
    "#DATA_SETS = ['INS-W-sample_1','INS-W-sample_2','INS-W-sample_3','INS-W-sample_4']\n",
    "DATA_SETS = ['INS-W-sample_1']"
   ],
   "id": "5d26a36a46deded2",
   "outputs": [],
   "execution_count": 80
  },
  {
   "metadata": {
    "ExecuteTime": {
     "end_time": "2025-08-17T08:35:29.344946Z",
     "start_time": "2025-08-17T08:35:29.235969Z"
    }
   },
   "cell_type": "code",
   "source": [
    "#Load features and depression scores\n",
    "features = pd.read_csv(DATA_DIR+ DATA_SETS[0] + '/FeatureData/rapids.csv', low_memory=False)\n",
    "labels = pd.read_csv(DATA_DIR+ DATA_SETS[0] + '/SurveyData/dep_weekly.csv')"
   ],
   "id": "a8b36407816aaecd",
   "outputs": [],
   "execution_count": 81
  },
  {
   "metadata": {
    "ExecuteTime": {
     "end_time": "2025-08-17T08:35:29.458972Z",
     "start_time": "2025-08-17T08:35:29.349941Z"
    }
   },
   "cell_type": "code",
   "source": [
    "#Merge on [pid, date]\n",
    "data = pd.merge(features, labels[['pid', 'date', 'dep']], on=['pid', 'date'], how='inner')\n",
    "data.info()"
   ],
   "id": "801a3fb76a2a57cd",
   "outputs": [
    {
     "name": "stdout",
     "output_type": "stream",
     "text": [
      "<class 'pandas.core.frame.DataFrame'>\n",
      "RangeIndex: 30 entries, 0 to 29\n",
      "Columns: 5511 entries, pid to dep\n",
      "dtypes: bool(1), float64(3813), object(1697)\n",
      "memory usage: 1.3+ MB\n"
     ]
    }
   ],
   "execution_count": 82
  },
  {
   "metadata": {},
   "cell_type": "markdown",
   "source": [
    "## Step 2: Normalize Features (Per User)\n",
    "\n",
    "User-level normalization is the process of transforming each user’s time-series data relative to their own historical baseline, not the entire dataset.\n",
    "\n",
    "#### Motivation:\n",
    "- Different users have different natural behaviors.\n",
    "- One person might sleep 9 hours, another 6 hours — both are normal for them.\n",
    "- Applying global normalization would treat this variance as noise.\n",
    "- Goal: Detect deviations from personal norms, not population norms."
   ],
   "id": "e7346a88e6a1eb2d"
  },
  {
   "metadata": {
    "ExecuteTime": {
     "end_time": "2025-08-17T08:35:29.464301Z",
     "start_time": "2025-08-17T08:35:29.462185Z"
    }
   },
   "cell_type": "code",
   "source": [
    "def normalize_per_user(df, user_col='pid', feature_cols=[]):\n",
    "    norm_cols = {}\n",
    "    for col in feature_cols:\n",
    "        col_norm = df.groupby(user_col)[col].transform(\n",
    "            lambda x: (x - x.median()) / (x.quantile(0.95) - x.quantile(0.05) + 1e-6)\n",
    "        )\n",
    "        norm_cols[col + '_norm'] = col_norm\n",
    "\n",
    "    # Create a single new DataFrame and concatenate\n",
    "    norm_df = pd.DataFrame(norm_cols)\n",
    "    df = pd.concat([df.reset_index(drop=True), norm_df], axis=1)\n",
    "\n",
    "    return df"
   ],
   "id": "3598f9e83ee69d",
   "outputs": [],
   "execution_count": 83
  },
  {
   "metadata": {
    "ExecuteTime": {
     "end_time": "2025-08-17T08:35:29.472916Z",
     "start_time": "2025-08-17T08:35:29.470503Z"
    }
   },
   "cell_type": "code",
   "source": [
    "# Parse features to normalize (excluding discretized or already normalized)\n",
    "feature_cols = [col for col in data.columns if ':' in col and '_norm' not in col and '_dis' not in col]"
   ],
   "id": "47490352fbc18320",
   "outputs": [],
   "execution_count": 84
  },
  {
   "metadata": {
    "ExecuteTime": {
     "end_time": "2025-08-17T08:35:33.397955Z",
     "start_time": "2025-08-17T08:35:29.475506Z"
    }
   },
   "cell_type": "code",
   "source": [
    " # Normalize\n",
    "df = normalize_per_user(data, user_col='pid', feature_cols=feature_cols)"
   ],
   "id": "b12db4b2b590b321",
   "outputs": [],
   "execution_count": 85
  },
  {
   "metadata": {
    "ExecuteTime": {
     "end_time": "2025-08-17T08:35:33.404206Z",
     "start_time": "2025-08-17T08:35:33.402603Z"
    }
   },
   "cell_type": "code",
   "source": [
    "norm_feature_cols = [f + '_norm' for f in feature_cols]\n",
    "print(len(norm_feature_cols))"
   ],
   "id": "fe7ae730bd2da1a1",
   "outputs": [
    {
     "name": "stdout",
     "output_type": "stream",
     "text": [
      "1791\n"
     ]
    }
   ],
   "execution_count": 86
  },
  {
   "metadata": {},
   "cell_type": "markdown",
   "source": [
    "A rolling window is a technique where you take overlapping fixed-size segments from a time-series to analyze local temporal patterns.\n",
    "\n",
    "We are working with daily passive behavioral data for each user. Instead of modeling entire time-series as a whole:\n",
    "- Extract small chunks (e.g., 7 days at a time)\n",
    "- Move the window forward day-by-day (or by custom steps)\n",
    "- Label each window with a mood score (e.g., PHQ-4) on the last day"
   ],
   "id": "e7325f02cc1e2197"
  },
  {
   "metadata": {
    "ExecuteTime": {
     "end_time": "2025-08-17T08:35:33.412070Z",
     "start_time": "2025-08-17T08:35:33.410037Z"
    }
   },
   "cell_type": "code",
   "source": [
    "def create_rolling_windows(df, user_col='pid', window_size=2, step_size=1, feature_cols=None, label_col='dep'):\n",
    "    X, y, users = [], [], []\n",
    "    for pid, group in df.groupby(user_col):\n",
    "        group = group.sort_values('date')\n",
    "        if len(group) < window_size:\n",
    "            continue\n",
    "        for start in range(0, len(group) - window_size + 1, step_size):\n",
    "            window = group.iloc[start:start+window_size]\n",
    "            if window[label_col].isnull().any():\n",
    "                continue\n",
    "            X.append(window[feature_cols].values)\n",
    "            y.append(window[label_col].iloc[-1])\n",
    "            users.append(pid)\n",
    "    return np.array(X), np.array(y), np.array(users)"
   ],
   "id": "3059b89d85b2d94a",
   "outputs": [],
   "execution_count": 87
  },
  {
   "metadata": {},
   "cell_type": "markdown",
   "source": [
    "## Step 3: Hierarchical Temporal Contrastive Learning (HTCL)\n",
    "**Hierarchical Temporal Contrastive Learning (HTCL)** is a deep learning framework designed to learn robust and personalized representations of sequential (temporal) data — particularly for behavioral modeling tasks like depression detection from smartphone-based passive sensing.\n",
    "\n",
    "Hierarchical Temporal Contrastive Learning is a learning paradigm that uses contrastive loss at multiple temporal resolutions (hierarchies) to train models to differentiate between:\n",
    "- Semantically similar sequences (e.g., the same user under similar mental states) and\n",
    "- Semantically different sequences (e.g., different users or opposite mental states),\n",
    "<br>\n",
    "in order to learn temporally-aware, user-sensitive embeddings for downstream tasks like classification or regression.\n",
    "\n",
    "**Key Concepts** <br>\n",
    "1. Contrastive Learning\n",
    "- Learns by comparing triplets: (anchor, positive, negative)\n",
    "- Goal: bring anchor ↔ positive closer in latent space, and push anchor ↔ negative further apart\n",
    "- Used without explicit supervision (e.g., PHQ scores may not be needed during representation learning)\n",
    "2. Temporal\n",
    "- Input data is sequential, e.g., 7-day behavior windows\n",
    "- Patterns like sleep, activity, and phone usage evolve over time\n",
    "- Model learns from temporal dependencies\n",
    "3. Hierarchical\n",
    "Learns from multiple temporal levels:\n",
    "- Short-term windows: daily or weekly patterns\n",
    "- Long-term context: across months or individuals\n",
    "- Contrastive objectives are applied at different levels:\n",
    "    - Intra-user contrast: different time windows of the same user\n",
    "    - Inter-user contrast: compare across different users\n",
    "\n"
   ],
   "id": "f163c71fea50a021"
  },
  {
   "metadata": {
    "ExecuteTime": {
     "end_time": "2025-08-17T08:35:33.434355Z",
     "start_time": "2025-08-17T08:35:33.418283Z"
    }
   },
   "cell_type": "code",
   "source": [
    "# Rolling windows\n",
    "X, y, users = create_rolling_windows(df, feature_cols=norm_feature_cols)"
   ],
   "id": "36c73585c614f76",
   "outputs": [],
   "execution_count": 88
  },
  {
   "metadata": {
    "ExecuteTime": {
     "end_time": "2025-08-17T08:35:33.440238Z",
     "start_time": "2025-08-17T08:35:33.438782Z"
    }
   },
   "cell_type": "code",
   "source": "print(X.shape, y.shape, users)",
   "id": "19346c5dfdd0e380",
   "outputs": [
    {
     "name": "stdout",
     "output_type": "stream",
     "text": [
      "(20, 2, 1791) (20,) ['INS-W_004' 'INS-W_004' 'INS-W_045' 'INS-W_045' 'INS-W_049' 'INS-W_049'\n",
      " 'INS-W_052' 'INS-W_052' 'INS-W_086' 'INS-W_086' 'INS-W_118' 'INS-W_118'\n",
      " 'INS-W_157' 'INS-W_157' 'INS-W_162' 'INS-W_162' 'INS-W_165' 'INS-W_165'\n",
      " 'INS-W_178' 'INS-W_178']\n"
     ]
    }
   ],
   "execution_count": 89
  },
  {
   "metadata": {},
   "cell_type": "markdown",
   "source": [
    "The Transformer Encoder is a neural network architecture designed to handle sequential data, like: <br>\n",
    "- Time-series (e.g., 7-day windows of behavior)\n",
    "- Text (as in NLP)\n",
    "- Sensor readings over time (as in your GLOBEM dataset)\n",
    "<br>\n",
    "###\n",
    "Originally introduced in the \"Attention is All You Need\" paper (Vaswani et al., 2017), the Transformer replaces traditional RNNs (like LSTMs) with attention mechanisms, which are faster, more parallelizable, and better at modeling long-term dependencies.\n",
    "\n",
    "| **Need**  | \t**Transformer Role**                         |\n",
    "|-----------|-----------------------------------------------|\n",
    "|Capture patterns over 7-day behavior windows | \tAttends to every day in the window           |\n",
    "|Weigh importance of different days' behavior | \tSelf-attention dynamically scores time steps |\n",
    "|Model complex dependencies between signals\t| Learns how sleep, activity, phone use relate  |\n",
    "|Handle variable temporal relevance\t| Not all days contribute equally to label      |\n",
    "\n",
    "In the context of depression detection from time-series data:\n",
    "| **Component**          | **Function**                                                                 |\n",
    "|------------------------|------------------------------------------------------------------------------|\n",
    "| Input Sequence         | A 7-day window of normalized behavioral features per user                    |\n",
    "| Input dim            | `(batch_size, 7, input_dim)`                                                 |\n",
    "| Linear Embedding       | Projects raw input features into a higher-dimensional latent space           |\n",
    "| Positional Encoding    | Adds day-wise order info to each time step (since Transformers are orderless)|\n",
    "| Multi-Head Attention   | Learns dependencies between all days in the sequence                         |\n",
    "| Feed-Forward Layer     | Applies nonlinear transformation to each time step                           |\n",
    "| Encoder Layer Stack    | Multiple layers of attention + feed-forward blocks                           |\n",
    "| Output Sequence        | Contextualized representation of each day in the window                      |\n",
    "| Output Shape           | `(batch_size, 7, model_dim)`                                                 |\n",
    "| Usage in Model         | Final day’s output (e.g., `x[:, -1, :]`) is passed to classification layers  |\n"
   ],
   "id": "d7e976421d9bf4fd"
  },
  {
   "metadata": {
    "ExecuteTime": {
     "end_time": "2025-08-17T08:35:33.448001Z",
     "start_time": "2025-08-17T08:35:33.445378Z"
    }
   },
   "cell_type": "code",
   "source": [
    "import torch\n",
    "import torch.nn as nn\n",
    "\n",
    "class TransformerEncoder(nn.Module):\n",
    "    def __init__(self, input_dim, model_dim, nhead, num_layers, dropout=0.1):\n",
    "        super().__init__()\n",
    "        self.embedding = nn.Linear(input_dim, model_dim)\n",
    "        self.pos_encoder = nn.Parameter(torch.randn(100, model_dim))  # Up to 100-day sequences\n",
    "        encoder_layer = nn.TransformerEncoderLayer(d_model=model_dim, nhead=nhead, dropout=dropout, batch_first=True)\n",
    "        self.transformer = nn.TransformerEncoder(encoder_layer, num_layers=num_layers)\n",
    "\n",
    "    def forward(self, x):  # (B, T, F)\n",
    "        x = self.embedding(x) + self.pos_encoder[:x.size(1)]\n",
    "        x = x.permute(1, 0, 2)  # (T, B, F)\n",
    "        return self.transformer(x).permute(1, 0, 2)  # (B, T, F)\n"
   ],
   "id": "b49d4187403ee2c6",
   "outputs": [],
   "execution_count": 90
  },
  {
   "metadata": {},
   "cell_type": "markdown",
   "source": [
    "The Triplet Loss is central to your temporal contrastive learning approach.\n",
    "It's used to learn better representations by enforcing that: <br>\n",
    "\n",
    "**“Samples from the same user and mood state are closer together than samples from different users or mood states.”**\n",
    "\n",
    "Triplet Loss compares:\n",
    "- Anchor: a sample (e.g., a 7-day window)\n",
    "- Positive: a sample similar to anchor (same user or same label)\n",
    "- Negative: a dissimilar sample (different user or opposite label)\n",
    "\n",
    "| **Term**       | **Meaning**                                                                 |\n",
    "|----------------|------------------------------------------------------------------------------|\n",
    "| Anchor         | Input window to be learned                                                  |\n",
    "| Positive       | Similar window (same user/label)                                            |\n",
    "| Negative       | Dissimilar window (different user or label)                                 |\n",
    "| Distance       | Cosine or Euclidean (usually cosine in behavior models)                     |\n",
    "| Margin         | Minimum gap enforced between positive and negative pairs (e.g., 0.2)        |\n",
    "| Loss Goal      | Push anchor closer to positive, farther from negative                       |\n",
    "| Use Case       | Self-supervised representation learning for personalized behavior modeling  |\n",
    "\n"
   ],
   "id": "de3b0b0fb06d6e9"
  },
  {
   "metadata": {
    "ExecuteTime": {
     "end_time": "2025-08-17T08:35:33.457357Z",
     "start_time": "2025-08-17T08:35:33.455538Z"
    }
   },
   "cell_type": "code",
   "source": [
    "class TripletLoss(nn.Module):\n",
    "    def __init__(self, margin=1.0):\n",
    "        super().__init__()\n",
    "        self.loss_fn = nn.TripletMarginLoss(margin=margin, p=2)\n",
    "\n",
    "    def forward(self, anchor, positive, negative):\n",
    "        return self.loss_fn(anchor, positive, negative)\n"
   ],
   "id": "a5cf133d870f3258",
   "outputs": [],
   "execution_count": 91
  },
  {
   "metadata": {},
   "cell_type": "markdown",
   "source": [
    "The ContextDecoder is a neural module that transforms contextual metadata (e.g., \"is weekend\", \"is during COVID\", etc.) into a vector representation that can be fused with the behavior sequence encoding.\n",
    "**Human behavior is context-dependent — the same sleep pattern on a Monday vs. Saturday may mean different things.**\n",
    "\n",
    "|**Component**|**Meaning**|\n",
    "|--------|---------|\n",
    "|Input\t| A vector like [0, 1, 1] → weekend, COVID, holiday|\n",
    "|Output\t| A latent vector like [0.3, -0.5, 1.2, ...] |\n",
    "| Role\t| Provides context-aware information to the model |"
   ],
   "id": "7d884d66f84be08e"
  },
  {
   "metadata": {
    "ExecuteTime": {
     "end_time": "2025-08-17T08:35:33.462098Z",
     "start_time": "2025-08-17T08:35:33.460130Z"
    }
   },
   "cell_type": "code",
   "source": [
    "class ContextDecoder(nn.Module):\n",
    "    def __init__(self, context_dim, model_dim):\n",
    "        super().__init__()\n",
    "        self.embedding = nn.Embedding(context_dim, model_dim)\n",
    "\n",
    "    def forward(self, context_ids):  # (B, C)\n",
    "        return self.embedding(context_ids)  # (B, C, D)\n"
   ],
   "id": "bd3c3f49da64c63b",
   "outputs": [],
   "execution_count": 92
  },
  {
   "metadata": {},
   "cell_type": "markdown",
   "source": [
    "The PersonalizedAdapter is a learnable transformation layer designed to personalize the model’s behavior to individual users. <br>\n",
    "\n",
    "In depression detection: <br>\n",
    "Each person has different baselines and behavioral patterns. <br>\n",
    "A model trained globally might miss subtle personal signals. <br>\n",
    "The PersonalizedAdapter helps tune the shared model’s outputs to better fit an individual user. <br>\n",
    "\n",
    "Why It Helps in Depression Detection\n",
    "\n",
    "|**Problem**|**Adapter Solution**|\n",
    "|-------|--------|\n",
    "|One model can't fit all users|\tLearns user-specific representation shift|\n",
    "|Subtle differences ignored|\tEmphasizes deviations based on personal patterns|\n",
    "|Context alone is not enough|\tPersonal embedding + context improves generalization|\n"
   ],
   "id": "6ac89f467388604e"
  },
  {
   "metadata": {
    "ExecuteTime": {
     "end_time": "2025-08-17T08:35:33.466753Z",
     "start_time": "2025-08-17T08:35:33.464742Z"
    }
   },
   "cell_type": "code",
   "source": [
    "#This is a parameterized neural module that learns a transformation of the input representation — it's essentially a bottleneck projection + expansion, applied identically to all samples.\n",
    "#This design is commonly called a \"bottleneck adapter\" — it's popular in NLP models (like BERT adapters) and meta-learning setups.\n",
    "#It is helpful in\n",
    "## Keeps parameter count low\n",
    "## Allows quick adaptation with few gradients\n",
    "## Prevents overfitting by acting like a regularized attention shift\n",
    "\n",
    "class PersonalizedAdapter(nn.Module):\n",
    "    def __init__(self, model_dim, bottleneck_dim):\n",
    "        super().__init__()\n",
    "        self.adapter = nn.Sequential(\n",
    "            nn.Linear(model_dim, bottleneck_dim),  #shrink\n",
    "            nn.ReLU(),                             #non linearity\n",
    "            nn.Linear(bottleneck_dim, model_dim)   #expand\n",
    "        )\n",
    "\n",
    "    def forward(self, x):\n",
    "        return self.adapter(x)"
   ],
   "id": "d1ab9bf64057984f",
   "outputs": [],
   "execution_count": 93
  },
  {
   "metadata": {},
   "cell_type": "markdown",
   "source": [
    "This is a simple linear classifier that takes a feature vector (e.g., from your Transformer + context + adapter) and outputs logits for binary classification — predicting:\n",
    "- Class 0: Non-depressed\n",
    "- Class 1: Depressed"
   ],
   "id": "7d45e0750a6d1f4d"
  },
  {
   "metadata": {
    "ExecuteTime": {
     "end_time": "2025-08-17T08:35:33.471329Z",
     "start_time": "2025-08-17T08:35:33.469452Z"
    }
   },
   "cell_type": "code",
   "source": [
    "class DepressionClassifier(nn.Module):\n",
    "    def __init__(self, model_dim):\n",
    "        super().__init__()\n",
    "        self.classifier = nn.Linear(model_dim, 2)\n",
    "\n",
    "    def forward(self, x):\n",
    "        return self.classifier(x)"
   ],
   "id": "4789096bccfe98e8",
   "outputs": [],
   "execution_count": 94
  },
  {
   "metadata": {},
   "cell_type": "markdown",
   "source": [
    "### Full Pipeline\n",
    "- Sequence of user behavior → encoded via Transformer\n",
    "- Context + personalization → added via adapters\n",
    "- Resulting vector → fed to this DepressionClassifier\n",
    "- Outputs logits → passed to loss or softmax"
   ],
   "id": "4ff75d6887f7ea6c"
  },
  {
   "metadata": {
    "ExecuteTime": {
     "end_time": "2025-08-17T08:35:33.476510Z",
     "start_time": "2025-08-17T08:35:33.474151Z"
    }
   },
   "cell_type": "code",
   "source": [
    "class DepressionDetectionModel(nn.Module):\n",
    "    def __init__(self, input_dim, context_dim, model_dim, bottleneck_dim, nhead=2, num_layers=2):\n",
    "        super().__init__()\n",
    "        self.encoder = TransformerEncoder(input_dim, model_dim, nhead, num_layers)\n",
    "        self.context_decoder = ContextDecoder(context_dim, model_dim)\n",
    "        self.adapter = PersonalizedAdapter(model_dim, bottleneck_dim)\n",
    "        self.classifier = DepressionClassifier(model_dim)\n",
    "\n",
    "    def forward(self, x, context_ids):\n",
    "        encoded_seq = self.encoder(x)                  # (B, T, D)\n",
    "        sequence_repr = encoded_seq[:, -1, :]          # (B, D), last token\n",
    "\n",
    "        context_repr = self.context_decoder(context_ids)  # (B, D)\n",
    "        fused = sequence_repr + context_repr            # (B, D)\n",
    "\n",
    "        personalized = self.adapter(fused)              # (B, D)\n",
    "        logits = self.classifier(personalized)          # (B, 2)\n",
    "        return logits"
   ],
   "id": "c27b38c49be0705b",
   "outputs": [],
   "execution_count": 95
  },
  {
   "metadata": {},
   "cell_type": "markdown",
   "source": [
    "This is a standard PyTorch training function that:\n",
    "\n",
    "- Takes a model, dataloader, optimizer, and number of epochs\n",
    "- Runs forward and backward passes\n",
    "- Updates weights using classification loss\n",
    "- Tracks and prints the average loss per epoch"
   ],
   "id": "6ac8ce287bf1b7d9"
  },
  {
   "metadata": {
    "ExecuteTime": {
     "end_time": "2025-08-17T08:35:33.484670Z",
     "start_time": "2025-08-17T08:35:33.482237Z"
    }
   },
   "cell_type": "code",
   "source": [
    "import torch\n",
    "import torch.nn.functional as F\n",
    "\n",
    "device = torch.device('cuda' if torch.cuda.is_available() else 'cpu')\n",
    "print(f\"Using device: {device}\")\n",
    "\n",
    "def train(model, dataloader, optimizer, epochs):\n",
    "    model = model.to(device)\n",
    "    model.train()\n",
    "\n",
    "    for epoch in range(epochs):\n",
    "        total_loss = 0\n",
    "        for x, context_ids, y in dataloader:\n",
    "            x = x.to(device)\n",
    "            y = y.to(device)\n",
    "            context_ids = context_ids.to(device)\n",
    "\n",
    "            # Forward pass\n",
    "            logits = model(x, context_ids)\n",
    "\n",
    "            # Classification loss\n",
    "            loss = F.cross_entropy(logits, y)\n",
    "            # Backward pass\n",
    "            optimizer.zero_grad()\n",
    "            loss.backward()\n",
    "            torch.nn.utils.clip_grad_norm_(model.parameters(), 1.0)\n",
    "            optimizer.step()\n",
    "\n",
    "            total_loss += loss.item()\n",
    "\n",
    "        print(f\"Epoch {epoch+1}/{epochs} - Loss: {total_loss / len(dataloader):.4f}\")\n"
   ],
   "id": "14f270f69a7d0fcf",
   "outputs": [
    {
     "name": "stdout",
     "output_type": "stream",
     "text": [
      "Using device: cpu\n"
     ]
    }
   ],
   "execution_count": 96
  },
  {
   "metadata": {
    "ExecuteTime": {
     "end_time": "2025-08-17T08:35:33.493104Z",
     "start_time": "2025-08-17T08:35:33.489684Z"
    }
   },
   "cell_type": "code",
   "source": [
    "import torch\n",
    "from torch.utils.data import DataLoader, TensorDataset\n",
    "\n",
    "# Convert to tensors\n",
    "X_tensor = torch.tensor(X, dtype=torch.float32)     # (N, 7, D)\n",
    "y_tensor = torch.tensor(y, dtype=torch.long)        # classification (0/1)\n",
    "\n",
    "print(f\"Is NAN exist {torch.isnan(X_tensor).any()}\")   # True → problem\n",
    "print(f\"Is INF exist {torch.isinf(X_tensor).any()}\")   # True → problem\n",
    "X_tensor[torch.isnan(X_tensor)] = 0.0\n",
    "X_tensor[torch.isinf(X_tensor)] = 0.0\n",
    "\n",
    "print(f\"Unquie Y in tensor {torch.unique(y_tensor)}\")  # Should be [0, 1]\n",
    "\n",
    "context_ids_tensor = torch.zeros_like(y_tensor)     # placeholder for now\n",
    "\n",
    "# Dataset & DataLoader\n",
    "dataset = TensorDataset(X_tensor, context_ids_tensor, y_tensor)\n",
    "dataloader = DataLoader(dataset, batch_size=64, shuffle=True)\n"
   ],
   "id": "548e8ac4d6c8679a",
   "outputs": [
    {
     "name": "stdout",
     "output_type": "stream",
     "text": [
      "Is NAN exist True\n",
      "Is INF exist False\n",
      "Unquie Y in tensor tensor([0, 1])\n"
     ]
    }
   ],
   "execution_count": 97
  },
  {
   "metadata": {
    "ExecuteTime": {
     "end_time": "2025-08-17T08:35:33.504417Z",
     "start_time": "2025-08-17T08:35:33.499488Z"
    }
   },
   "cell_type": "code",
   "source": [
    "model = DepressionDetectionModel(\n",
    "    input_dim=X.shape[2],       # number of normalized features per day\n",
    "    context_dim=10,             # number of context tokens (e.g., weekend, COVID, etc.)\n",
    "    model_dim=128,\n",
    "    bottleneck_dim=32,\n",
    "    nhead=4,\n",
    "    num_layers=2\n",
    ")"
   ],
   "id": "19b2dccba2d7253b",
   "outputs": [],
   "execution_count": 98
  },
  {
   "metadata": {
    "ExecuteTime": {
     "end_time": "2025-08-17T08:35:33.575226Z",
     "start_time": "2025-08-17T08:35:33.510131Z"
    }
   },
   "cell_type": "code",
   "source": [
    "optimizer = torch.optim.Adam(model.parameters(), lr=1e-4)\n",
    "train(model, dataloader, optimizer, epochs=10)"
   ],
   "id": "8e5d1e8d715e40fa",
   "outputs": [
    {
     "name": "stdout",
     "output_type": "stream",
     "text": [
      "Epoch 1/10 - Loss: 0.6961\n",
      "Epoch 2/10 - Loss: 0.6832\n",
      "Epoch 3/10 - Loss: 0.6822\n",
      "Epoch 4/10 - Loss: 0.6808\n",
      "Epoch 5/10 - Loss: 0.6755\n",
      "Epoch 6/10 - Loss: 0.6544\n",
      "Epoch 7/10 - Loss: 0.6512\n",
      "Epoch 8/10 - Loss: 0.6334\n",
      "Epoch 9/10 - Loss: 0.6180\n",
      "Epoch 10/10 - Loss: 0.6098\n"
     ]
    }
   ],
   "execution_count": 99
  },
  {
   "metadata": {
    "ExecuteTime": {
     "end_time": "2025-08-17T08:35:33.593373Z",
     "start_time": "2025-08-17T08:35:33.586958Z"
    }
   },
   "cell_type": "code",
   "source": [
    "from sklearn.metrics import classification_report\n",
    "\n",
    "model.eval()\n",
    "with torch.no_grad():\n",
    "    y_pred = model(X_tensor.to(device), context_ids_tensor.to(device)).argmax(dim=1).cpu()\n",
    "    print(classification_report(y_tensor, y_pred))"
   ],
   "id": "c1ee33ab8ed8d14e",
   "outputs": [
    {
     "name": "stdout",
     "output_type": "stream",
     "text": [
      "              precision    recall  f1-score   support\n",
      "\n",
      "           0       1.00      0.78      0.88         9\n",
      "           1       0.85      1.00      0.92        11\n",
      "\n",
      "    accuracy                           0.90        20\n",
      "   macro avg       0.92      0.89      0.90        20\n",
      "weighted avg       0.92      0.90      0.90        20\n",
      "\n"
     ]
    }
   ],
   "execution_count": 100
  },
  {
   "metadata": {
    "ExecuteTime": {
     "end_time": "2025-08-17T08:35:33.602953Z",
     "start_time": "2025-08-17T08:35:33.598475Z"
    }
   },
   "cell_type": "code",
   "source": [
    "import torch\n",
    "from sklearn.metrics import confusion_matrix, roc_curve, auc, classification_report\n",
    "import matplotlib.pyplot as plt\n",
    "import seaborn as sns\n",
    "import numpy as np\n",
    "\n",
    "# Set model to eval mode\n",
    "model.eval()\n",
    "# Forward pass to get predictions and probabilities\n",
    "with torch.no_grad():\n",
    "    logits = model(X_tensor.to(device), context_ids_tensor.to(device))\n",
    "    probs = torch.softmax(logits, dim=1)[:, 1].cpu().numpy()  # Probability of class 1\n",
    "    preds = np.round(probs)                                   # Threshold at 0.5\n",
    "    y_true = y_tensor.numpy()\n"
   ],
   "id": "2d07294f9af3fe2e",
   "outputs": [],
   "execution_count": 101
  },
  {
   "metadata": {
    "ExecuteTime": {
     "end_time": "2025-08-17T08:35:33.647561Z",
     "start_time": "2025-08-17T08:35:33.607147Z"
    }
   },
   "cell_type": "code",
   "source": [
    "cm = confusion_matrix(y_true, preds)\n",
    "sns.heatmap(cm, annot=True, fmt=\"d\", cmap=\"Blues\", xticklabels=['Non-Depressed', 'Depressed'],\n",
    "            yticklabels=['Non-Depressed', 'Depressed'])\n",
    "plt.title(\"Confusion Matrix\")\n",
    "plt.xlabel(\"Predicted Label\")\n",
    "plt.ylabel(\"True Label\")\n",
    "plt.show()\n"
   ],
   "id": "d31b8472d3c23b30",
   "outputs": [
    {
     "data": {
      "text/plain": [
       "<Figure size 640x480 with 2 Axes>"
      ],
      "image/png": "[encoded data removed]"
     },
     "metadata": {},
     "output_type": "display_data"
    }
   ],
   "execution_count": 102
  },
  {
   "metadata": {},
   "cell_type": "markdown",
   "source": [
    "Positive <br>\n",
    "Your model correctly identifies nearly all depressed users Recall = 1.00 <br>\n",
    "This is critical in depression detection, where false negatives are dangerous. <br>\n",
    "AUC and F1-score for class 1 are decent, suggesting the model does learn depression-specific patterns. <br>\n",
    "\n",
    "Need Attention <br>\n",
    "The model misses most non-depressed users Recall = 0.22 <br>\n",
    "That means it's over-predicting depression, i.e., it tends to say everyone is depressed unless the signal is clearly otherwise.\n",
    "\n",
    "Suggestion <br>\n",
    "- Class Imbalnces or Bias\n",
    "- Add more data example : Merge INS_W1, INS_W2, INS_w3 etc.."
   ],
   "id": "2582ff05a8073237"
  },
  {
   "metadata": {
    "ExecuteTime": {
     "end_time": "2025-08-17T08:35:33.692531Z",
     "start_time": "2025-08-17T08:35:33.653957Z"
    }
   },
   "cell_type": "code",
   "source": [
    "fpr, tpr, thresholds = roc_curve(y_true, probs)\n",
    "roc_auc = auc(fpr, tpr)\n",
    "\n",
    "plt.figure()\n",
    "plt.plot(fpr, tpr, color='darkorange', lw=2, label=f'ROC Curve (AUC = {roc_auc:.2f})')\n",
    "plt.plot([0, 1], [0, 1], color='navy', lw=2, linestyle='--')\n",
    "plt.xlim([-0.05, 1.05])\n",
    "plt.ylim([-0.05, 1.05])\n",
    "plt.xlabel('False Positive Rate')\n",
    "plt.ylabel('True Positive Rate')\n",
    "plt.title('Receiver Operating Characteristic (ROC)')\n",
    "plt.legend(loc=\"lower right\")\n",
    "plt.grid()\n",
    "plt.show()"
   ],
   "id": "ef9e5cfaf42290e6",
   "outputs": [
    {
     "data": {
      "text/plain": [
       "<Figure size 640x480 with 1 Axes>"
      ],
      "image/png": "[encoded data removed]"
     },
     "metadata": {},
     "output_type": "display_data"
    }
   ],
   "execution_count": 103
  }
 ],
 "metadata": {
  "kernelspec": {
   "display_name": "Python [conda env:base] *",
   "language": "python",
   "name": "conda-base-py"
  },
  "language_info": {
   "codemirror_mode": {
    "name": "ipython",
    "version": 2
   },
   "file_extension": ".py",
   "mimetype": "text/x-python",
   "name": "python",
   "nbconvert_exporter": "python",
   "pygments_lexer": "ipython2",
   "version": "2.7.6"
  }
 },
 "nbformat": 4,
 "nbformat_minor": 5
}
